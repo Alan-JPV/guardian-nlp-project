{
 "cells": [
  {
   "cell_type": "code",
   "execution_count": 2,
   "id": "54e7ec62-bbd5-4ce3-9525-84d5a30b7a8f",
   "metadata": {},
   "outputs": [
    {
     "name": "stdout",
     "output_type": "stream",
     "text": [
      "✅ Data loaded and cleaned.\n",
      "✅ Data split into training and testing sets.\n"
     ]
    }
   ],
   "source": [
    "import pandas as pd\n",
    "import re\n",
    "from sklearn.model_selection import train_test_split\n",
    "\n",
    "# Load the data from the 'data' subfolder\n",
    "df = pd.read_csv('data/train.csv')\n",
    "\n",
    "# Define the text cleaning function\n",
    "def preprocess_text(text):\n",
    "    text = text.lower()\n",
    "    text = re.sub(r'[^a-z\\s]', '', text) # Keep only letters and spaces\n",
    "    text = re.sub(r'\\s+', ' ', text).strip() # Remove extra whitespace\n",
    "    return text\n",
    "\n",
    "# Apply the function to the comment text\n",
    "df['cleaned_text'] = df['comment_text'].apply(preprocess_text)\n",
    "print(\"✅ Data loaded and cleaned.\")\n",
    "\n",
    "# Split the data for training and testing\n",
    "X = df['cleaned_text']\n",
    "y = df['toxic']\n",
    "X_train, X_test, y_train, y_test = train_test_split(X, y, test_size=0.2, random_state=42)\n",
    "print(\"✅ Data split into training and testing sets.\")"
   ]
  },
  {
   "cell_type": "code",
   "execution_count": 3,
   "id": "3907cd5b-29f0-4779-a4fd-25e262ce2702",
   "metadata": {},
   "outputs": [
    {
     "name": "stdout",
     "output_type": "stream",
     "text": [
      "✅ Text vectorization complete.\n",
      "   - Shape of training data: (127656, 5000)\n",
      "   - Shape of testing data: (31915, 5000)\n"
     ]
    }
   ],
   "source": [
    "from sklearn.feature_extraction.text import TfidfVectorizer\n",
    "\n",
    "# 1. Initialize the vectorizer\n",
    "# We'll limit it to the 5000 most frequent words to keep it manageable.\n",
    "vectorizer = TfidfVectorizer(max_features=5000)\n",
    "\n",
    "# 2. Fit the vectorizer on the training data and transform it\n",
    "X_train_tfidf = vectorizer.fit_transform(X_train)\n",
    "\n",
    "# 3. Transform the test data using the same fitted vectorizer\n",
    "X_test_tfidf = vectorizer.transform(X_test)\n",
    "\n",
    "# Print a confirmation\n",
    "print(\"✅ Text vectorization complete.\")\n",
    "print(f\"   - Shape of training data: {X_train_tfidf.shape}\")\n",
    "print(f\"   - Shape of testing data: {X_test_tfidf.shape}\")"
   ]
  },
  {
   "cell_type": "code",
   "execution_count": 4,
   "id": "8f3da35b-94e1-4f3d-b8c3-27cccfd043c8",
   "metadata": {},
   "outputs": [
    {
     "name": "stdout",
     "output_type": "stream",
     "text": [
      "Training the model...\n",
      "✅ Model training complete.\n",
      "\n",
      "Making predictions...\n",
      "✅ Predictions made.\n",
      "\n",
      "Model Accuracy: 95.69%\n",
      "\n",
      "Classification Report:\n",
      "              precision    recall  f1-score   support\n",
      "\n",
      "           0       0.96      0.99      0.98     28859\n",
      "           1       0.90      0.62      0.73      3056\n",
      "\n",
      "    accuracy                           0.96     31915\n",
      "   macro avg       0.93      0.81      0.85     31915\n",
      "weighted avg       0.96      0.96      0.95     31915\n",
      "\n"
     ]
    }
   ],
   "source": [
    "from sklearn.linear_model import LogisticRegression\n",
    "from sklearn.metrics import accuracy_score, classification_report\n",
    "\n",
    "# 1. Initialize and train the model\n",
    "print(\"Training the model...\")\n",
    "model = LogisticRegression(max_iter=1000) # Increased max_iter for convergence\n",
    "model.fit(X_train_tfidf, y_train)\n",
    "print(\"✅ Model training complete.\")\n",
    "\n",
    "# 2. Make predictions on the test data\n",
    "print(\"\\nMaking predictions...\")\n",
    "y_pred = model.predict(X_test_tfidf)\n",
    "print(\"✅ Predictions made.\")\n",
    "\n",
    "# 3. Evaluate the model's performance\n",
    "accuracy = accuracy_score(y_test, y_pred)\n",
    "print(f\"\\nModel Accuracy: {accuracy * 100:.2f}%\")\n",
    "\n",
    "# Display a detailed classification report\n",
    "print(\"\\nClassification Report:\")\n",
    "print(classification_report(y_test, y_pred))"
   ]
  },
  {
   "cell_type": "code",
   "execution_count": 5,
   "id": "059076e1-ade8-4640-b474-e739f5700d85",
   "metadata": {},
   "outputs": [
    {
     "name": "stdout",
     "output_type": "stream",
     "text": [
      "Sentence: 'You are a wonderful and talented person, keep up the great work!'\n",
      "Prediction: Not-Toxic (Confidence: 89.47%)\n",
      "------------------------------\n",
      "Sentence: 'You are a stupid idiot and I hate you.'\n",
      "Prediction: Toxic (Confidence: 100.00%)\n",
      "------------------------------\n"
     ]
    }
   ],
   "source": [
    "# Create a few example sentences to test\n",
    "test_sentences = [\n",
    "    \"You are a wonderful and talented person, keep up the great work!\",\n",
    "    \"You are a stupid idiot and I hate you.\"\n",
    "]\n",
    "\n",
    "# A quick function to predict a single sentence\n",
    "def predict_toxicity(sentence):\n",
    "    # 1. Clean the sentence\n",
    "    cleaned_sentence = preprocess_text(sentence)\n",
    "    \n",
    "    # 2. Vectorize the sentence using the SAME vectorizer\n",
    "    sentence_tfidf = vectorizer.transform([cleaned_sentence])\n",
    "    \n",
    "    # 3. Predict using the trained model\n",
    "    prediction = model.predict(sentence_tfidf)[0]\n",
    "    \n",
    "    # 4. Get the prediction probability\n",
    "    probability = model.predict_proba(sentence_tfidf)[0]\n",
    "    \n",
    "    # Return a user-friendly result\n",
    "    if prediction == 1:\n",
    "        return f\"Prediction: Toxic (Confidence: {probability[1]*100:.2f}%)\"\n",
    "    else:\n",
    "        return f\"Prediction: Not-Toxic (Confidence: {probability[0]*100:.2f}%)\"\n",
    "\n",
    "# Loop through the test sentences and see the results\n",
    "for sentence in test_sentences:\n",
    "    print(f\"Sentence: '{sentence}'\")\n",
    "    print(predict_toxicity(sentence))\n",
    "    print(\"-\" * 30)"
   ]
  },
  {
   "cell_type": "code",
   "execution_count": 6,
   "id": "3c204fc4-55e1-4272-a12a-004982e3e257",
   "metadata": {},
   "outputs": [
    {
     "name": "stdout",
     "output_type": "stream",
     "text": [
      "✅ Model and Vectorizer have been saved successfully to your project folder.\n",
      "   - vectorizer.pkl\n",
      "   - model.pkl\n"
     ]
    }
   ],
   "source": [
    "import pickle\n",
    "\n",
    "# Save the TfidfVectorizer\n",
    "with open('vectorizer.pkl', 'wb') as f:\n",
    "    pickle.dump(vectorizer, f)\n",
    "\n",
    "# Save the Logistic Regression model\n",
    "with open('model.pkl', 'wb') as f:\n",
    "    pickle.dump(model, f)\n",
    "\n",
    "print(\"✅ Model and Vectorizer have been saved successfully to your project folder.\")\n",
    "print(\"   - vectorizer.pkl\")\n",
    "print(\"   - model.pkl\")"
   ]
  },
  {
   "cell_type": "code",
   "execution_count": null,
   "id": "f36ceca1-16d6-44b2-a9ad-717b3e3cf49d",
   "metadata": {},
   "outputs": [],
   "source": []
  }
 ],
 "metadata": {
  "kernelspec": {
   "display_name": "Python [conda env:base] *",
   "language": "python",
   "name": "conda-base-py"
  },
  "language_info": {
   "codemirror_mode": {
    "name": "ipython",
    "version": 3
   },
   "file_extension": ".py",
   "mimetype": "text/x-python",
   "name": "python",
   "nbconvert_exporter": "python",
   "pygments_lexer": "ipython3",
   "version": "3.13.5"
  }
 },
 "nbformat": 4,
 "nbformat_minor": 5
}
